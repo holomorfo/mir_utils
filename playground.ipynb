{
 "cells": [
  {
   "cell_type": "code",
   "execution_count": 1,
   "id": "15df30ad",
   "metadata": {},
   "outputs": [
    {
     "name": "stdout",
     "output_type": "stream",
     "text": [
      "\u001b[31mERROR: Could not find a version that satisfies the requirement mirlo-utils (from versions: none)\u001b[0m\u001b[31m\r\n",
      "\u001b[0m\u001b[31mERROR: No matching distribution found for mirlo-utils\u001b[0m\u001b[31m\r\n",
      "\u001b[0m"
     ]
    }
   ],
   "source": [
    "!pip install mirlo-utils"
   ]
  },
  {
   "cell_type": "code",
   "execution_count": 2,
   "id": "686c3a77",
   "metadata": {},
   "outputs": [
    {
     "name": "stdout",
     "output_type": "stream",
     "text": [
      "Looking in indexes: https://test.pypi.org/simple/\n",
      "Collecting mirlo-utils-holomorfo\n",
      "  Downloading https://test-files.pythonhosted.org/packages/99/1d/71586d25b9847beae58d485a6317c785a3656d67972d6834cf350aac8fe4/mirlo_utils_holomorfo-0.0.1-py3-none-any.whl.metadata (668 bytes)\n",
      "Downloading https://test-files.pythonhosted.org/packages/99/1d/71586d25b9847beae58d485a6317c785a3656d67972d6834cf350aac8fe4/mirlo_utils_holomorfo-0.0.1-py3-none-any.whl (2.2 kB)\n",
      "Installing collected packages: mirlo-utils-holomorfo\n",
      "Successfully installed mirlo-utils-holomorfo-0.0.1\n"
     ]
    }
   ],
   "source": [
    "!pip install -i https://test.pypi.org/simple/ mirlo-utils-holomorfo"
   ]
  },
  {
   "cell_type": "code",
   "execution_count": 4,
   "id": "c687469c",
   "metadata": {},
   "outputs": [
    {
     "ename": "ModuleNotFoundError",
     "evalue": "No module named 'mirloutils'",
     "output_type": "error",
     "traceback": [
      "\u001b[0;31m---------------------------------------------------------------------------\u001b[0m",
      "\u001b[0;31mModuleNotFoundError\u001b[0m                       Traceback (most recent call last)",
      "Cell \u001b[0;32mIn [4], line 1\u001b[0m\n\u001b[0;32m----> 1\u001b[0m \u001b[38;5;28;01mimport\u001b[39;00m \u001b[38;5;21;01mmirloutils\u001b[39;00m\n",
      "\u001b[0;31mModuleNotFoundError\u001b[0m: No module named 'mirloutils'"
     ]
    }
   ],
   "source": [
    "import mirloutils"
   ]
  },
  {
   "cell_type": "code",
   "execution_count": null,
   "id": "d2494bb5",
   "metadata": {},
   "outputs": [],
   "source": []
  }
 ],
 "metadata": {
  "kernelspec": {
   "display_name": "Python 3 (ipykernel)",
   "language": "python",
   "name": "python3"
  },
  "language_info": {
   "codemirror_mode": {
    "name": "ipython",
    "version": 3
   },
   "file_extension": ".py",
   "mimetype": "text/x-python",
   "name": "python",
   "nbconvert_exporter": "python",
   "pygments_lexer": "ipython3",
   "version": "3.11.0"
  }
 },
 "nbformat": 4,
 "nbformat_minor": 5
}
